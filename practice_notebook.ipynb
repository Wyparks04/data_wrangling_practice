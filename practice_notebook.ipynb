{
 "cells": [
  {
   "cell_type": "markdown",
   "id": "40106060",
   "metadata": {},
   "source": [
    "# Run imports below."
   ]
  },
  {
   "cell_type": "code",
   "execution_count": null,
   "id": "fbcade9f",
   "metadata": {},
   "outputs": [],
   "source": []
  },
  {
   "cell_type": "markdown",
   "id": "912c215f",
   "metadata": {},
   "source": [
    "# Creating dataframes"
   ]
  },
  {
   "cell_type": "code",
   "execution_count": null,
   "id": "b7d3578b",
   "metadata": {},
   "outputs": [],
   "source": [
    "#Create a dataframe by entering the information yourself.\n",
    "\n",
    "#Save your dataframe as a .csv file."
   ]
  },
  {
   "cell_type": "code",
   "execution_count": 2,
   "id": "4e436823",
   "metadata": {},
   "outputs": [],
   "source": [
    "#Create a dataframe from a file using a relative pathway."
   ]
  },
  {
   "cell_type": "code",
   "execution_count": null,
   "id": "6fb09a33",
   "metadata": {},
   "outputs": [],
   "source": [
    "#Create a dataframe by interacting with an API."
   ]
  },
  {
   "cell_type": "markdown",
   "id": "0676f973",
   "metadata": {},
   "source": [
    "# Exploring dataframes\n",
    "Select one of the dataframes above for these exercises."
   ]
  },
  {
   "cell_type": "code",
   "execution_count": null,
   "id": "f1735628",
   "metadata": {},
   "outputs": [],
   "source": [
    "#Display the number of columns and rows."
   ]
  },
  {
   "cell_type": "code",
   "execution_count": null,
   "id": "212639a8",
   "metadata": {},
   "outputs": [],
   "source": [
    "#Display the first and last 5 rows."
   ]
  },
  {
   "cell_type": "code",
   "execution_count": null,
   "id": "03447775",
   "metadata": {},
   "outputs": [],
   "source": [
    "#Display basic statistics."
   ]
  },
  {
   "cell_type": "code",
   "execution_count": null,
   "id": "f75a2c31",
   "metadata": {},
   "outputs": [],
   "source": [
    "#Display column names."
   ]
  },
  {
   "cell_type": "code",
   "execution_count": null,
   "id": "12a40449",
   "metadata": {},
   "outputs": [],
   "source": [
    "#Change which column is used as the index. (You do not need to continue using the df in this form after this cell.)"
   ]
  },
  {
   "cell_type": "code",
   "execution_count": null,
   "id": "8290c201",
   "metadata": {},
   "outputs": [],
   "source": [
    "#Display the first 5 rows from 2 columns."
   ]
  },
  {
   "cell_type": "code",
   "execution_count": null,
   "id": "2242b66c",
   "metadata": {},
   "outputs": [],
   "source": [
    "#Display select rows for 3 columns using .loc."
   ]
  },
  {
   "cell_type": "code",
   "execution_count": null,
   "id": "4f244beb",
   "metadata": {},
   "outputs": [],
   "source": [
    "#Display select rows for 3 columns using .iloc."
   ]
  },
  {
   "cell_type": "markdown",
   "id": "042aedd8",
   "metadata": {},
   "source": [
    "### Comparing .loc and .iloc\n",
    "\n",
    "| Feature        | `.loc`                          | `.iloc`                        |\n",
    "|----------------|----------------------------------|--------------------------------|\n",
    "| Indexing type  | Label-based                     | Integer position-based         |\n",
    "| Syntax         | `df.loc[row_label, col_label]`  | `df.iloc[row_pos, col_pos]`    |\n",
    "| Range behavior | Inclusive                       | Exclusive                      |\n",
    "| Example        | `df.loc[3, 'age']`              | `df.iloc[3, 1]`                |"
   ]
  },
  {
   "cell_type": "markdown",
   "id": "56d0fbc9",
   "metadata": {},
   "source": [
    "# Data cleaning"
   ]
  },
  {
   "cell_type": "code",
   "execution_count": null,
   "id": "25410a84",
   "metadata": {},
   "outputs": [],
   "source": [
    "#Check the number of null values in each column."
   ]
  },
  {
   "cell_type": "code",
   "execution_count": null,
   "id": "7952605c",
   "metadata": {},
   "outputs": [],
   "source": [
    "#Decide how to deal with null values (i.e., removing columns, replacing nulls). Enter a comment explaining your choice."
   ]
  },
  {
   "cell_type": "code",
   "execution_count": null,
   "id": "5e67f226",
   "metadata": {},
   "outputs": [],
   "source": [
    "#Check column datatypes."
   ]
  },
  {
   "cell_type": "code",
   "execution_count": null,
   "id": "ce74a16a",
   "metadata": {},
   "outputs": [],
   "source": [
    "#Change the datatypes of columns as needed and enter comments explaining your choices."
   ]
  },
  {
   "cell_type": "code",
   "execution_count": null,
   "id": "6e44fed6",
   "metadata": {},
   "outputs": [],
   "source": [
    "#Rename columns for clarity as needed and enter comments explaining your choices."
   ]
  },
  {
   "cell_type": "code",
   "execution_count": null,
   "id": "302d596f",
   "metadata": {},
   "outputs": [],
   "source": [
    "#Replace spaces with underscores in column names as needed."
   ]
  },
  {
   "cell_type": "code",
   "execution_count": null,
   "id": "1510ce41",
   "metadata": {},
   "outputs": [],
   "source": [
    "#Convert string data to uppercase, lowercase, or titlecase as needed and enter comments explaining your choices."
   ]
  },
  {
   "cell_type": "markdown",
   "id": "13626c18",
   "metadata": {},
   "source": [
    "# Data manipulation"
   ]
  },
  {
   "cell_type": "code",
   "execution_count": null,
   "id": "e8c787f8",
   "metadata": {},
   "outputs": [],
   "source": [
    "#Filter the results from one column and display the first 10 results."
   ]
  },
  {
   "cell_type": "code",
   "execution_count": null,
   "id": "0e4c90e4",
   "metadata": {},
   "outputs": [],
   "source": [
    "#Find the sum of a column."
   ]
  },
  {
   "cell_type": "code",
   "execution_count": null,
   "id": "bd1f0197",
   "metadata": {},
   "outputs": [],
   "source": [
    "#Find the mean of a column."
   ]
  },
  {
   "cell_type": "code",
   "execution_count": null,
   "id": "48b9c316",
   "metadata": {},
   "outputs": [],
   "source": [
    "#Filter one column to only contain rows that meet a specified condition."
   ]
  },
  {
   "cell_type": "code",
   "execution_count": null,
   "id": "6c3f43b9",
   "metadata": {},
   "outputs": [],
   "source": [
    "#Create a new column based on a specified condition.\n",
    "#Try doing this 3 ways: apply, lambda x, and with operators. Add additional cells as needed."
   ]
  },
  {
   "cell_type": "code",
   "execution_count": null,
   "id": "0ce8e295",
   "metadata": {},
   "outputs": [],
   "source": [
    "#Use mapping to change a specified column value to something different."
   ]
  },
  {
   "cell_type": "code",
   "execution_count": null,
   "id": "70adf4bd",
   "metadata": {},
   "outputs": [],
   "source": [
    "#Use .agg() to find the min, max, and mean values of a column."
   ]
  },
  {
   "cell_type": "code",
   "execution_count": null,
   "id": "993ff3da",
   "metadata": {},
   "outputs": [],
   "source": [
    "#Group data within a column and display how many rows each group contains. Remember to reset the index."
   ]
  },
  {
   "cell_type": "code",
   "execution_count": null,
   "id": "b0595646",
   "metadata": {},
   "outputs": [],
   "source": [
    "#What if you wanted to display the above results in reverse index order?"
   ]
  },
  {
   "cell_type": "code",
   "execution_count": null,
   "id": "d2fbfacd",
   "metadata": {},
   "outputs": [],
   "source": [
    "#Define a function for the data."
   ]
  },
  {
   "cell_type": "markdown",
   "id": "7c73d412",
   "metadata": {},
   "source": [
    "# Plotting\n",
    "\n",
    "Note: Use whichever libraries you deem appropriate for each plot.\n",
    "\n",
    "### 📊 Plotting Library Cheat Sheet\n",
    "\n",
    "| Feature            | Matplotlib   | Seaborn       | Plotly          |\n",
    "|--------------------|--------------|----------------|------------------|\n",
    "| Interactivity      | ❌           | ❌             | ✅               |\n",
    "| Ease of use        | ⚠️ (Verbose) | ✅             | ✅               |\n",
    "| Styling defaults   | ❌           | ✅             | ✅               |\n",
    "| Customization      | ✅✅✅        | ✅             | ⚠️ (limited low-level) |\n",
    "| Good for EDA       | ⚠️           | ✅✅           | ✅               |\n",
    "| Best use case      | Publications | Data analysis | Dashboards/presentations |"
   ]
  },
  {
   "cell_type": "code",
   "execution_count": null,
   "id": "3ab1a9b1",
   "metadata": {},
   "outputs": [],
   "source": [
    "#Create a bar chart. Play around with making it vertical, horizontal, clustered, stacked, and 100% stacked, changing which variables you're using as needed."
   ]
  },
  {
   "cell_type": "code",
   "execution_count": null,
   "id": "413ed5df",
   "metadata": {},
   "outputs": [],
   "source": [
    "#Create a histogram."
   ]
  },
  {
   "cell_type": "code",
   "execution_count": 4,
   "id": "9253bb64",
   "metadata": {},
   "outputs": [],
   "source": [
    "#Create a pie chart. If you like, you can try making variations like doughnut, sunburst, and treemap."
   ]
  },
  {
   "cell_type": "code",
   "execution_count": null,
   "id": "b64c2470",
   "metadata": {},
   "outputs": [],
   "source": [
    "#Create a line chart. Try adding a second line. Can you figure out how to make that an area chart?"
   ]
  },
  {
   "cell_type": "code",
   "execution_count": null,
   "id": "0f95d10d",
   "metadata": {},
   "outputs": [],
   "source": [
    "#Create a scatterplot."
   ]
  },
  {
   "cell_type": "code",
   "execution_count": null,
   "id": "28d7a319",
   "metadata": {},
   "outputs": [],
   "source": [
    "#Create a table."
   ]
  },
  {
   "cell_type": "code",
   "execution_count": null,
   "id": "89f6becc",
   "metadata": {},
   "outputs": [],
   "source": [
    "#Create a heat map"
   ]
  },
  {
   "cell_type": "markdown",
   "id": "a827dec8",
   "metadata": {},
   "source": [
    "🎉 Congratulations! You did it! Now wash, rinse, and repeat. Doing this over and over will help it stick!"
   ]
  }
 ],
 "metadata": {
  "kernelspec": {
   "display_name": "Python 3",
   "language": "python",
   "name": "python3"
  },
  "language_info": {
   "codemirror_mode": {
    "name": "ipython",
    "version": 3
   },
   "file_extension": ".py",
   "mimetype": "text/x-python",
   "name": "python",
   "nbconvert_exporter": "python",
   "pygments_lexer": "ipython3",
   "version": "3.13.3"
  }
 },
 "nbformat": 4,
 "nbformat_minor": 5
}
