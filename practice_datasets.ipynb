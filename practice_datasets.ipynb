{
 "cells": [
  {
   "cell_type": "code",
   "execution_count": 2,
   "id": "a325b28c",
   "metadata": {},
   "outputs": [
    {
     "name": "stdout",
     "output_type": "stream",
     "text": [
      "Index(['job_title_short', 'job_title', 'job_location', 'job_via',\n",
      "       'job_schedule_type', 'job_work_from_home', 'search_location',\n",
      "       'job_posted_date', 'job_no_degree_mention', 'job_health_insurance',\n",
      "       'job_country', 'salary_rate', 'salary_year_avg', 'salary_hour_avg',\n",
      "       'company_name', 'job_skills', 'job_type_skills'],\n",
      "      dtype='object')\n"
     ]
    }
   ],
   "source": [
    "import pandas as pd\n",
    "import matplotlib.pyplot as plt\n",
    "import sqlite3 \n",
    "\n",
    "df = pd.read_csv(\"data_jobs.csv\")\n",
    "\n",
    "print(df.columns)"
   ]
  },
  {
   "cell_type": "code",
   "execution_count": 3,
   "id": "11ecc497",
   "metadata": {},
   "outputs": [],
   "source": [
    "df = df[df['job_title'] == 'Data Analyst'].reset_index(drop=True)\n"
   ]
  },
  {
   "cell_type": "code",
   "execution_count": 4,
   "id": "431d0c2e",
   "metadata": {},
   "outputs": [
    {
     "name": "stdout",
     "output_type": "stream",
     "text": [
      "(41950, 17)\n"
     ]
    }
   ],
   "source": [
    "print(df.shape)"
   ]
  },
  {
   "cell_type": "code",
   "execution_count": 5,
   "id": "b1da95ef",
   "metadata": {},
   "outputs": [],
   "source": [
    "df.to_csv('data_analyst_jobs.csv', index=False)\n"
   ]
  },
  {
   "cell_type": "code",
   "execution_count": 8,
   "id": "6b2875b0",
   "metadata": {},
   "outputs": [
    {
     "name": "stdout",
     "output_type": "stream",
     "text": [
      "(41950, 17)\n"
     ]
    }
   ],
   "source": [
    "pd.read_csv('data_analyst_jobs.csv')\n",
    "print(df.shape)"
   ]
  }
 ],
 "metadata": {
  "kernelspec": {
   "display_name": "Python 3",
   "language": "python",
   "name": "python3"
  },
  "language_info": {
   "codemirror_mode": {
    "name": "ipython",
    "version": 3
   },
   "file_extension": ".py",
   "mimetype": "text/x-python",
   "name": "python",
   "nbconvert_exporter": "python",
   "pygments_lexer": "ipython3",
   "version": "3.13.3"
  }
 },
 "nbformat": 4,
 "nbformat_minor": 5
}
