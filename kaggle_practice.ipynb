{
 "cells": [
  {
   "cell_type": "code",
   "execution_count": 1,
   "id": "21b20b9b",
   "metadata": {},
   "outputs": [
    {
     "name": "stdout",
     "output_type": "stream",
     "text": [
      "Employees Table:\n",
      "\n",
      "   id     name  department_id   hire_date\n",
      "0   1    Alice              1  2020-01-15\n",
      "1   2      Bob              2  2019-07-22\n",
      "2   3  Charlie              1  2021-03-30\n",
      "3   4    David              3  2018-06-12\n",
      "4   5      Eve              2  2022-11-03\n",
      "\n",
      "Departments Table:\n",
      "\n",
      "   department_id         name\n",
      "0              1           HR\n",
      "1              2  Engineering\n",
      "2              3        Sales\n"
     ]
    }
   ],
   "source": [
    "import pandas as pd\n",
    "import matplotlib.pyplot as plt\n",
    "import sqlite3\n",
    "\n",
    "\n",
    "# Create sample data for employees\n",
    "employees_data = {\n",
    "    \"id\": [1, 2, 3, 4, 5],\n",
    "    \"name\": [\"Alice\", \"Bob\", \"Charlie\", \"David\", \"Eve\"],\n",
    "    \"department_id\": [1, 2, 1, 3, 2],\n",
    "    \"hire_date\": [\"2020-01-15\", \"2019-07-22\", \"2021-03-30\", \"2018-06-12\", \"2022-11-03\"],\n",
    "}\n",
    "\n",
    "# Create sample data for departments\n",
    "departments_data = {\n",
    "    \"department_id\": [1, 2, 3],\n",
    "    \"name\": [\"HR\", \"Engineering\", \"Sales\"],\n",
    "}\n",
    "\n",
    "# Create DataFrames\n",
    "employees_df = pd.DataFrame(employees_data)\n",
    "departments_df = pd.DataFrame(departments_data)\n",
    "\n",
    "# Create SQLite database and tables\n",
    "conn = sqlite3.connect(\"example.db\")\n",
    "cursor = conn.cursor()\n",
    "\n",
    "# Create tables employees_data\n",
    "cursor.execute(\"\"\"\n",
    "CREATE TABLE IF NOT EXISTS employees (\n",
    "    id INTEGER PRIMARY KEY,\n",
    "    name TEXT NOT NULL,\n",
    "    department_id INTEGER NOT NULL,\n",
    "    hire_date TEXT NOT NULL\n",
    ");\n",
    "\"\"\")\n",
    "\n",
    "# Create tables departments_data\n",
    "cursor.execute(\"\"\"\n",
    "CREATE TABLE IF NOT EXISTS departments (\n",
    "    department_id INTEGER PRIMARY KEY,\n",
    "    name TEXT NOT NULL\n",
    ");\n",
    "\"\"\")\n",
    "\n",
    "# Insert data into tables\n",
    "employees_df.to_sql(\"employees\", conn, if_exists=\"replace\", index=False)\n",
    "departments_df.to_sql(\"departments\", conn, if_exists=\"replace\", index=False)\n",
    "\n",
    "# Verify data was inserted\n",
    "print(\"Employees Table:\\n\")\n",
    "print(pd.read_sql_query(\"SELECT * FROM employees\", conn))\n",
    "\n",
    "print(\"\\nDepartments Table:\\n\")\n",
    "print(pd.read_sql_query(\"SELECT * FROM departments\", conn))"
   ]
  }
 ],
 "metadata": {
  "kernelspec": {
   "display_name": "Python 3",
   "language": "python",
   "name": "python3"
  },
  "language_info": {
   "codemirror_mode": {
    "name": "ipython",
    "version": 3
   },
   "file_extension": ".py",
   "mimetype": "text/x-python",
   "name": "python",
   "nbconvert_exporter": "python",
   "pygments_lexer": "ipython3",
   "version": "3.13.3"
  }
 },
 "nbformat": 4,
 "nbformat_minor": 5
}
